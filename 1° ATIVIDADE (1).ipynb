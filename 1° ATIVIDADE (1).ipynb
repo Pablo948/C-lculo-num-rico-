{
 "cells": [
  {
   "cell_type": "code",
   "execution_count": null,
   "id": "584d0a04",
   "metadata": {},
   "outputs": [
    {
     "name": "stdout",
     "output_type": "stream",
     "text": [
      "Insira a função:8**x\n",
      "Insira o valor da função que deseja achar:10\n"
     ]
    },
    {
     "data": {
      "image/png": "[encoded data removed]",
      "text/plain": [
       "<Figure size 640x480 with 1 Axes>"
      ]
     },
     "metadata": {},
     "output_type": "display_data"
    },
    {
     "name": "stdout",
     "output_type": "stream",
     "text": [
      "f(x) = 8**x - 10.0\n"
     ]
    }
   ],
   "source": [
    "# Importando as bibliotecas em python\n",
    "import sympy as sp\n",
    "import math \n",
    "\n",
    "#Inserir informações\n",
    "\n",
    "x = sp.symbols('x')    #definir x como sendo uma variável\n",
    "f = sp.simplify(input('Insira a função:'))    #Inserir a função f(x) \n",
    "y = float(input('Insira o valor da função que deseja achar:'))    #inserir o valor desejado\n",
    "f = f - y  \n",
    "print(f'f(x) = {f}')    #mostrar a função f(x) que será usada nas iterações\n",
    "f_a =sp.lambdify(x, f, \"math\")   \n",
    "P_x = float(input('insira o erro de |b-a| desejado:'))    \n",
    "P_f = float(input('insira o erro de |f(x)| desejado:'))\n",
    "N_I = int(input('Insira o número máximo de iterações:'))\n",
    "Met = input('qual método você deseja: [1] Bissecção [2] Falsa posição [3] Newton - Rapshon:')\n",
    "\n",
    "#Método da bissecção\n",
    "\n",
    "if Met == '1':\n",
    "    a = float(input('insira o menor valor do intervalo:'))\n",
    "    b = float(input('insira o maior valor do intervalo:'))\n",
    "    E_x = abs((b-a))\n",
    "    E_f = abs(f_a(a))\n",
    "    n = a\n",
    "    C = 0\n",
    "    h = f_a(a)*f_a(b)\n",
    "    if h>0:\n",
    "        print('Não há raiz nesse intervalo')\n",
    "    else:\n",
    "        while P_x < E_x or P_f < E_f and C < N_I:\n",
    "            C += 1\n",
    "            print(f'{C}° iteração\\n -->[a{C}, b{C}] = [{a}, {b}]\\n  -->x{C} = {n} // f(x{C}) = {f_a(n)}\\n   -->|f(x{C})| = {E_f} e |x{C}-x{C-1}| = {E_x}')\n",
    "            n = (b + a)/2\n",
    "            E_x = abs(a - n if f_a(n)<0 else b -n)\n",
    "            E_f = abs(f_a(n))\n",
    "            if f_a(n)<0:\n",
    "                a = n\n",
    "            else:\n",
    "                b = n \n",
    "        print(f'{C+1}° iteração\\n -->[a{C+1}, b{C+1}] = [{a}, {b}]\\n  -->x{C+1} = {n} // f(x{C+1}) = {f_a(n)}\\n   -->|f(x{C+1})| = {E_f} e |x{C+1}-x{C}| = {E_x}')\n",
    "\n",
    "#Método da falsa posição\n",
    "\n",
    "if Met == '2':\n",
    "    a = float(input('insira o menor valor do intervalo:'))\n",
    "    b = float(input('insira o maior valor do intervalo:'))\n",
    "    E_x = abs((b-a))\n",
    "    E_f = abs(f_a(a))\n",
    "    n = a\n",
    "    C = 0\n",
    "    if f_a(a)*f_a(b)>0:\n",
    "        print('Não há raiz nesse intervalo')\n",
    "    else:     \n",
    "        while P_x < E_x or P_f < E_f and C < N_I:\n",
    "            C += 1\n",
    "            print(f'{C}° iteração\\n -->[a{C}, b{C}] = [{a}, {b}]\\n  -->x{C} = {n} // f(x{C}) = {f_a(n)}\\n   -->|f(x{C})| = {E_f} e |x{C}-x{C-1}| = {E_x}')\n",
    "            n = float(a*f_a(b) - b*f_a(a))/(f_a(b)-f_a(a))\n",
    "            E_x = abs(a - n if f_a(n)<0 else b -n)\n",
    "            E_f = abs(f_a(n))\n",
    "            if f_a(n)<0: \n",
    "                a = n\n",
    "            else:\n",
    "                b = n\n",
    "        print(f'{C+1}° iteração\\n -->[a{C+1}, b{C+1}] = [{a}, {b}]\\n  -->x{C+1} = {n} // f(x{C+1}) = {f_a(n)}\\n   -->|f(x{C+1})| = {E_f} e |x{C+1}-x{C}| = {E_x}')\n",
    "        \n",
    "#Método de Newton - Raphson\n",
    "\n",
    "if Met == '3':\n",
    "    f_der = f.diff(x)    #Calculo da derivada\n",
    "    f_b =sp.lambdify(x, f_der, \"math\")\n",
    "    print(f\"A derivada da função é: \\n f'(x) = {f_der}\")\n",
    "    a = float(input('insira o \"chute\" inicial:'))\n",
    "    E_x = abs((b-a))\n",
    "    E_f = abs(f_a(a))\n",
    "    C = 0 \n",
    "    if  (a - (f_a(a)/f_b(a)))<0 :\n",
    "        print('não há como usar esse método')\n",
    "    else:   \n",
    "        while P_x < E_x or P_f < E_f and C < N_I:\n",
    "            C += 1\n",
    "            print(f\"{C}° iteração\\n -->x{C} = {a} // f(x{C}) = {f_a(a)} // f'(x{C}) = {f_b(a)}\\n  -->|f(x{C})| = {E_f} e |x{C}-x{C-1}| = {E_x}\")\n",
    "            b = a \n",
    "            a = a - (f_a(a)/f_b(a))\n",
    "            E_f = abs((f_a(a)))\n",
    "            E_x = abs(a - b)\n",
    "                \n",
    "        print(f\"{C+1}° iteração\\n -->x{C+1} = {a} // f(x{C+1}) = {f_a(a)} // f'(x{C+1}) = {f_b(a)}\\n  -->|f(x{C+1})| = {E_f} e |x{C+1}-x{C}| = {E_x}\")"
   ]
  },
  {
   "cell_type": "code",
   "execution_count": null,
   "id": "df10205c",
   "metadata": {},
   "outputs": [],
   "source": []
  },
  {
   "cell_type": "code",
   "execution_count": null,
   "id": "af00bba2",
   "metadata": {},
   "outputs": [],
   "source": []
  },
  {
   "cell_type": "code",
   "execution_count": null,
   "id": "7ba88b50",
   "metadata": {},
   "outputs": [],
   "source": []
  }
 ],
 "metadata": {
  "kernelspec": {
   "display_name": "Python 3 (ipykernel)",
   "language": "python",
   "name": "python3"
  },
  "language_info": {
   "codemirror_mode": {
    "name": "ipython",
    "version": 3
   },
   "file_extension": ".py",
   "mimetype": "text/x-python",
   "name": "python",
   "nbconvert_exporter": "python",
   "pygments_lexer": "ipython3",
   "version": "3.9.12"
  },
  "widgets": {
   "application/vnd.jupyter.widget-state+json": {
    "state": {},
    "version_major": 2,
    "version_minor": 0
   }
  }
 },
 "nbformat": 4,
 "nbformat_minor": 5
}
